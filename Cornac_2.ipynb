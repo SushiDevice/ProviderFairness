{
 "cells": [
  {
   "cell_type": "code",
   "execution_count": 28,
   "metadata": {},
   "outputs": [
    {
     "name": "stderr",
     "output_type": "stream",
     "text": [
      "c:\\Users\\Juan Jose\\AppData\\Local\\Programs\\Python\\Python38\\lib\\site-packages\\cornac\\data\\dataset.py:335: UserWarning: 1656 duplicated observations are removed!\n",
      "  warnings.warn(\"%d duplicated observations are removed!\" % dup_count)\n",
      "c:\\Users\\Juan Jose\\AppData\\Local\\Programs\\Python\\Python38\\lib\\site-packages\\cornac\\data\\dataset.py:335: UserWarning: 84 duplicated observations are removed!\n",
      "  warnings.warn(\"%d duplicated observations are removed!\" % dup_count)\n"
     ]
    }
   ],
   "source": [
    "import cornac\n",
    "from cornac.eval_methods import RatioSplit\n",
    "from cornac.data import Reader\n",
    "from cornac.data import Dataset\n",
    "import pandas as pd\n",
    "\n",
    "data = Reader().read('for_testing.csv', sep = ',', skip_lines=1)\n",
    "rs = RatioSplit(data=data, test_size=0.2, rating_threshold=3.5, seed=123)\n",
    "\n",
    "\n"
   ]
  }
 ],
 "metadata": {
  "kernelspec": {
   "display_name": "Python 3",
   "language": "python",
   "name": "python3"
  },
  "language_info": {
   "codemirror_mode": {
    "name": "ipython",
    "version": 3
   },
   "file_extension": ".py",
   "mimetype": "text/x-python",
   "name": "python",
   "nbconvert_exporter": "python",
   "pygments_lexer": "ipython3",
   "version": "3.8.10"
  }
 },
 "nbformat": 4,
 "nbformat_minor": 2
}
